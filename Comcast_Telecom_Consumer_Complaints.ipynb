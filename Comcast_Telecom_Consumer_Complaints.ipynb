{
 "cells": [
  {
   "cell_type": "code",
   "execution_count": 115,
   "id": "f86c7475",
   "metadata": {},
   "outputs": [],
   "source": [
    "import pandas as pd\n",
    "import matplotlib.pyplot as plt\n",
    "from sklearn import preprocessing\n",
    "import calendar\n",
    "from matplotlib.colors import LinearSegmentedColormap\n",
    "%matplotlib inline "
   ]
  },
  {
   "cell_type": "code",
   "execution_count": 116,
   "id": "9c96cc79",
   "metadata": {},
   "outputs": [],
   "source": [
    "#Import data into Python environment\n",
    "df = pd.read_csv('Comcast_telecom_complaints_data.csv',header = None,skiprows=1)"
   ]
  },
  {
   "cell_type": "code",
   "execution_count": 117,
   "id": "5c802731",
   "metadata": {},
   "outputs": [
    {
     "data": {
      "text/html": [
       "<div>\n",
       "<style scoped>\n",
       "    .dataframe tbody tr th:only-of-type {\n",
       "        vertical-align: middle;\n",
       "    }\n",
       "\n",
       "    .dataframe tbody tr th {\n",
       "        vertical-align: top;\n",
       "    }\n",
       "\n",
       "    .dataframe thead th {\n",
       "        text-align: right;\n",
       "    }\n",
       "</style>\n",
       "<table border=\"1\" class=\"dataframe\">\n",
       "  <thead>\n",
       "    <tr style=\"text-align: right;\">\n",
       "      <th></th>\n",
       "      <th>0</th>\n",
       "      <th>1</th>\n",
       "      <th>2</th>\n",
       "      <th>3</th>\n",
       "      <th>4</th>\n",
       "      <th>5</th>\n",
       "      <th>6</th>\n",
       "      <th>7</th>\n",
       "      <th>8</th>\n",
       "      <th>9</th>\n",
       "      <th>10</th>\n",
       "    </tr>\n",
       "  </thead>\n",
       "  <tbody>\n",
       "    <tr>\n",
       "      <th>0</th>\n",
       "      <td>250635</td>\n",
       "      <td>Comcast Cable Internet Speeds</td>\n",
       "      <td>22-04-15</td>\n",
       "      <td>22-Apr-15</td>\n",
       "      <td>3:53:50 PM</td>\n",
       "      <td>Customer Care Call</td>\n",
       "      <td>Abingdon</td>\n",
       "      <td>Maryland</td>\n",
       "      <td>21009</td>\n",
       "      <td>Closed</td>\n",
       "      <td>No</td>\n",
       "    </tr>\n",
       "    <tr>\n",
       "      <th>1</th>\n",
       "      <td>223441</td>\n",
       "      <td>Payment disappear - service got disconnected</td>\n",
       "      <td>4/8/2015</td>\n",
       "      <td>4-Aug-15</td>\n",
       "      <td>10:22:56 AM</td>\n",
       "      <td>Internet</td>\n",
       "      <td>Acworth</td>\n",
       "      <td>Georgia</td>\n",
       "      <td>30102</td>\n",
       "      <td>Closed</td>\n",
       "      <td>No</td>\n",
       "    </tr>\n",
       "    <tr>\n",
       "      <th>2</th>\n",
       "      <td>242732</td>\n",
       "      <td>Speed and Service</td>\n",
       "      <td>18-04-15</td>\n",
       "      <td>18-Apr-15</td>\n",
       "      <td>9:55:47 AM</td>\n",
       "      <td>Internet</td>\n",
       "      <td>Acworth</td>\n",
       "      <td>Georgia</td>\n",
       "      <td>30101</td>\n",
       "      <td>Closed</td>\n",
       "      <td>Yes</td>\n",
       "    </tr>\n",
       "    <tr>\n",
       "      <th>3</th>\n",
       "      <td>277946</td>\n",
       "      <td>Comcast Imposed a New Usage Cap of 300GB that ...</td>\n",
       "      <td>5/7/2015</td>\n",
       "      <td>5-Jul-15</td>\n",
       "      <td>11:59:35 AM</td>\n",
       "      <td>Internet</td>\n",
       "      <td>Acworth</td>\n",
       "      <td>Georgia</td>\n",
       "      <td>30101</td>\n",
       "      <td>Open</td>\n",
       "      <td>Yes</td>\n",
       "    </tr>\n",
       "    <tr>\n",
       "      <th>4</th>\n",
       "      <td>307175</td>\n",
       "      <td>Comcast not working and no service to boot</td>\n",
       "      <td>26-05-15</td>\n",
       "      <td>26-May-15</td>\n",
       "      <td>1:25:26 PM</td>\n",
       "      <td>Internet</td>\n",
       "      <td>Acworth</td>\n",
       "      <td>Georgia</td>\n",
       "      <td>30101</td>\n",
       "      <td>Solved</td>\n",
       "      <td>No</td>\n",
       "    </tr>\n",
       "  </tbody>\n",
       "</table>\n",
       "</div>"
      ],
      "text/plain": [
       "       0                                                  1         2   \\\n",
       "0  250635                      Comcast Cable Internet Speeds  22-04-15   \n",
       "1  223441       Payment disappear - service got disconnected  4/8/2015   \n",
       "2  242732                                  Speed and Service  18-04-15   \n",
       "3  277946  Comcast Imposed a New Usage Cap of 300GB that ...  5/7/2015   \n",
       "4  307175         Comcast not working and no service to boot  26-05-15   \n",
       "\n",
       "          3            4                   5         6         7      8   \\\n",
       "0  22-Apr-15   3:53:50 PM  Customer Care Call  Abingdon  Maryland  21009   \n",
       "1   4-Aug-15  10:22:56 AM            Internet   Acworth   Georgia  30102   \n",
       "2  18-Apr-15   9:55:47 AM            Internet   Acworth   Georgia  30101   \n",
       "3   5-Jul-15  11:59:35 AM            Internet   Acworth   Georgia  30101   \n",
       "4  26-May-15   1:25:26 PM            Internet   Acworth   Georgia  30101   \n",
       "\n",
       "       9    10  \n",
       "0  Closed   No  \n",
       "1  Closed   No  \n",
       "2  Closed  Yes  \n",
       "3    Open  Yes  \n",
       "4  Solved   No  "
      ]
     },
     "execution_count": 117,
     "metadata": {},
     "output_type": "execute_result"
    }
   ],
   "source": [
    "df.head()"
   ]
  },
  {
   "cell_type": "code",
   "execution_count": 118,
   "id": "ccffbbc7",
   "metadata": {},
   "outputs": [],
   "source": [
    "#Renaming header for dataset\n",
    "df.to_csv('Comcast_telecom_complaints_data.csv',header=['Ticket','Customer_Complaint','Date','Date_month_year','Time','Received_Via','City','State','Zip_code','Status','Filing_on_behalf'],index=False)\n",
    "df =pd.read_csv('Comcast_telecom_complaints_data.csv')"
   ]
  },
  {
   "cell_type": "code",
   "execution_count": 119,
   "id": "59c2d8ca",
   "metadata": {},
   "outputs": [
    {
     "data": {
      "text/html": [
       "<div>\n",
       "<style scoped>\n",
       "    .dataframe tbody tr th:only-of-type {\n",
       "        vertical-align: middle;\n",
       "    }\n",
       "\n",
       "    .dataframe tbody tr th {\n",
       "        vertical-align: top;\n",
       "    }\n",
       "\n",
       "    .dataframe thead th {\n",
       "        text-align: right;\n",
       "    }\n",
       "</style>\n",
       "<table border=\"1\" class=\"dataframe\">\n",
       "  <thead>\n",
       "    <tr style=\"text-align: right;\">\n",
       "      <th></th>\n",
       "      <th>Ticket</th>\n",
       "      <th>Customer_Complaint</th>\n",
       "      <th>Date</th>\n",
       "      <th>Date_month_year</th>\n",
       "      <th>Time</th>\n",
       "      <th>Received_Via</th>\n",
       "      <th>City</th>\n",
       "      <th>State</th>\n",
       "      <th>Zip_code</th>\n",
       "      <th>Status</th>\n",
       "      <th>Filing_on_behalf</th>\n",
       "    </tr>\n",
       "  </thead>\n",
       "  <tbody>\n",
       "    <tr>\n",
       "      <th>0</th>\n",
       "      <td>250635</td>\n",
       "      <td>Comcast Cable Internet Speeds</td>\n",
       "      <td>22-04-15</td>\n",
       "      <td>22-Apr-15</td>\n",
       "      <td>3:53:50 PM</td>\n",
       "      <td>Customer Care Call</td>\n",
       "      <td>Abingdon</td>\n",
       "      <td>Maryland</td>\n",
       "      <td>21009</td>\n",
       "      <td>Closed</td>\n",
       "      <td>No</td>\n",
       "    </tr>\n",
       "    <tr>\n",
       "      <th>1</th>\n",
       "      <td>223441</td>\n",
       "      <td>Payment disappear - service got disconnected</td>\n",
       "      <td>4/8/2015</td>\n",
       "      <td>4-Aug-15</td>\n",
       "      <td>10:22:56 AM</td>\n",
       "      <td>Internet</td>\n",
       "      <td>Acworth</td>\n",
       "      <td>Georgia</td>\n",
       "      <td>30102</td>\n",
       "      <td>Closed</td>\n",
       "      <td>No</td>\n",
       "    </tr>\n",
       "    <tr>\n",
       "      <th>2</th>\n",
       "      <td>242732</td>\n",
       "      <td>Speed and Service</td>\n",
       "      <td>18-04-15</td>\n",
       "      <td>18-Apr-15</td>\n",
       "      <td>9:55:47 AM</td>\n",
       "      <td>Internet</td>\n",
       "      <td>Acworth</td>\n",
       "      <td>Georgia</td>\n",
       "      <td>30101</td>\n",
       "      <td>Closed</td>\n",
       "      <td>Yes</td>\n",
       "    </tr>\n",
       "    <tr>\n",
       "      <th>3</th>\n",
       "      <td>277946</td>\n",
       "      <td>Comcast Imposed a New Usage Cap of 300GB that ...</td>\n",
       "      <td>5/7/2015</td>\n",
       "      <td>5-Jul-15</td>\n",
       "      <td>11:59:35 AM</td>\n",
       "      <td>Internet</td>\n",
       "      <td>Acworth</td>\n",
       "      <td>Georgia</td>\n",
       "      <td>30101</td>\n",
       "      <td>Open</td>\n",
       "      <td>Yes</td>\n",
       "    </tr>\n",
       "    <tr>\n",
       "      <th>4</th>\n",
       "      <td>307175</td>\n",
       "      <td>Comcast not working and no service to boot</td>\n",
       "      <td>26-05-15</td>\n",
       "      <td>26-May-15</td>\n",
       "      <td>1:25:26 PM</td>\n",
       "      <td>Internet</td>\n",
       "      <td>Acworth</td>\n",
       "      <td>Georgia</td>\n",
       "      <td>30101</td>\n",
       "      <td>Solved</td>\n",
       "      <td>No</td>\n",
       "    </tr>\n",
       "  </tbody>\n",
       "</table>\n",
       "</div>"
      ],
      "text/plain": [
       "   Ticket                                 Customer_Complaint      Date  \\\n",
       "0  250635                      Comcast Cable Internet Speeds  22-04-15   \n",
       "1  223441       Payment disappear - service got disconnected  4/8/2015   \n",
       "2  242732                                  Speed and Service  18-04-15   \n",
       "3  277946  Comcast Imposed a New Usage Cap of 300GB that ...  5/7/2015   \n",
       "4  307175         Comcast not working and no service to boot  26-05-15   \n",
       "\n",
       "  Date_month_year         Time        Received_Via      City     State  \\\n",
       "0       22-Apr-15   3:53:50 PM  Customer Care Call  Abingdon  Maryland   \n",
       "1        4-Aug-15  10:22:56 AM            Internet   Acworth   Georgia   \n",
       "2       18-Apr-15   9:55:47 AM            Internet   Acworth   Georgia   \n",
       "3        5-Jul-15  11:59:35 AM            Internet   Acworth   Georgia   \n",
       "4       26-May-15   1:25:26 PM            Internet   Acworth   Georgia   \n",
       "\n",
       "   Zip_code  Status Filing_on_behalf  \n",
       "0     21009  Closed               No  \n",
       "1     30102  Closed               No  \n",
       "2     30101  Closed              Yes  \n",
       "3     30101    Open              Yes  \n",
       "4     30101  Solved               No  "
      ]
     },
     "execution_count": 119,
     "metadata": {},
     "output_type": "execute_result"
    }
   ],
   "source": [
    "df.head()"
   ]
  },
  {
   "cell_type": "code",
   "execution_count": 120,
   "id": "4af1f12c",
   "metadata": {},
   "outputs": [
    {
     "name": "stdout",
     "output_type": "stream",
     "text": [
      "<class 'pandas.core.frame.DataFrame'>\n",
      "RangeIndex: 2224 entries, 0 to 2223\n",
      "Data columns (total 11 columns):\n",
      " #   Column              Non-Null Count  Dtype \n",
      "---  ------              --------------  ----- \n",
      " 0   Ticket              2224 non-null   object\n",
      " 1   Customer_Complaint  2224 non-null   object\n",
      " 2   Date                2224 non-null   object\n",
      " 3   Date_month_year     2224 non-null   object\n",
      " 4   Time                2224 non-null   object\n",
      " 5   Received_Via        2224 non-null   object\n",
      " 6   City                2224 non-null   object\n",
      " 7   State               2224 non-null   object\n",
      " 8   Zip_code            2224 non-null   int64 \n",
      " 9   Status              2224 non-null   object\n",
      " 10  Filing_on_behalf    2224 non-null   object\n",
      "dtypes: int64(1), object(10)\n",
      "memory usage: 191.2+ KB\n"
     ]
    }
   ],
   "source": [
    "df.info()"
   ]
  },
  {
   "cell_type": "code",
   "execution_count": 121,
   "id": "f9323fc6",
   "metadata": {},
   "outputs": [],
   "source": [
    "#Dropping unused columns from table\n",
    "df = df.drop(['Ticket','Date','Zip_code'], axis = 1)"
   ]
  },
  {
   "cell_type": "code",
   "execution_count": 122,
   "id": "c3623f49",
   "metadata": {},
   "outputs": [
    {
     "data": {
      "text/html": [
       "<div>\n",
       "<style scoped>\n",
       "    .dataframe tbody tr th:only-of-type {\n",
       "        vertical-align: middle;\n",
       "    }\n",
       "\n",
       "    .dataframe tbody tr th {\n",
       "        vertical-align: top;\n",
       "    }\n",
       "\n",
       "    .dataframe thead th {\n",
       "        text-align: right;\n",
       "    }\n",
       "</style>\n",
       "<table border=\"1\" class=\"dataframe\">\n",
       "  <thead>\n",
       "    <tr style=\"text-align: right;\">\n",
       "      <th></th>\n",
       "      <th>Customer_Complaint</th>\n",
       "      <th>Date_month_year</th>\n",
       "      <th>Time</th>\n",
       "      <th>Received_Via</th>\n",
       "      <th>City</th>\n",
       "      <th>State</th>\n",
       "      <th>Status</th>\n",
       "      <th>Filing_on_behalf</th>\n",
       "    </tr>\n",
       "  </thead>\n",
       "  <tbody>\n",
       "    <tr>\n",
       "      <th>0</th>\n",
       "      <td>Comcast Cable Internet Speeds</td>\n",
       "      <td>22-Apr-15</td>\n",
       "      <td>3:53:50 PM</td>\n",
       "      <td>Customer Care Call</td>\n",
       "      <td>Abingdon</td>\n",
       "      <td>Maryland</td>\n",
       "      <td>Closed</td>\n",
       "      <td>No</td>\n",
       "    </tr>\n",
       "    <tr>\n",
       "      <th>1</th>\n",
       "      <td>Payment disappear - service got disconnected</td>\n",
       "      <td>4-Aug-15</td>\n",
       "      <td>10:22:56 AM</td>\n",
       "      <td>Internet</td>\n",
       "      <td>Acworth</td>\n",
       "      <td>Georgia</td>\n",
       "      <td>Closed</td>\n",
       "      <td>No</td>\n",
       "    </tr>\n",
       "    <tr>\n",
       "      <th>2</th>\n",
       "      <td>Speed and Service</td>\n",
       "      <td>18-Apr-15</td>\n",
       "      <td>9:55:47 AM</td>\n",
       "      <td>Internet</td>\n",
       "      <td>Acworth</td>\n",
       "      <td>Georgia</td>\n",
       "      <td>Closed</td>\n",
       "      <td>Yes</td>\n",
       "    </tr>\n",
       "    <tr>\n",
       "      <th>3</th>\n",
       "      <td>Comcast Imposed a New Usage Cap of 300GB that ...</td>\n",
       "      <td>5-Jul-15</td>\n",
       "      <td>11:59:35 AM</td>\n",
       "      <td>Internet</td>\n",
       "      <td>Acworth</td>\n",
       "      <td>Georgia</td>\n",
       "      <td>Open</td>\n",
       "      <td>Yes</td>\n",
       "    </tr>\n",
       "    <tr>\n",
       "      <th>4</th>\n",
       "      <td>Comcast not working and no service to boot</td>\n",
       "      <td>26-May-15</td>\n",
       "      <td>1:25:26 PM</td>\n",
       "      <td>Internet</td>\n",
       "      <td>Acworth</td>\n",
       "      <td>Georgia</td>\n",
       "      <td>Solved</td>\n",
       "      <td>No</td>\n",
       "    </tr>\n",
       "  </tbody>\n",
       "</table>\n",
       "</div>"
      ],
      "text/plain": [
       "                                  Customer_Complaint Date_month_year  \\\n",
       "0                      Comcast Cable Internet Speeds       22-Apr-15   \n",
       "1       Payment disappear - service got disconnected        4-Aug-15   \n",
       "2                                  Speed and Service       18-Apr-15   \n",
       "3  Comcast Imposed a New Usage Cap of 300GB that ...        5-Jul-15   \n",
       "4         Comcast not working and no service to boot       26-May-15   \n",
       "\n",
       "          Time        Received_Via      City     State  Status  \\\n",
       "0   3:53:50 PM  Customer Care Call  Abingdon  Maryland  Closed   \n",
       "1  10:22:56 AM            Internet   Acworth   Georgia  Closed   \n",
       "2   9:55:47 AM            Internet   Acworth   Georgia  Closed   \n",
       "3  11:59:35 AM            Internet   Acworth   Georgia    Open   \n",
       "4   1:25:26 PM            Internet   Acworth   Georgia  Solved   \n",
       "\n",
       "  Filing_on_behalf  \n",
       "0               No  \n",
       "1               No  \n",
       "2              Yes  \n",
       "3              Yes  \n",
       "4               No  "
      ]
     },
     "execution_count": 122,
     "metadata": {},
     "output_type": "execute_result"
    }
   ],
   "source": [
    "df.head()"
   ]
  },
  {
   "cell_type": "code",
   "execution_count": 123,
   "id": "5fa07352",
   "metadata": {},
   "outputs": [
    {
     "data": {
      "text/html": [
       "<div>\n",
       "<style scoped>\n",
       "    .dataframe tbody tr th:only-of-type {\n",
       "        vertical-align: middle;\n",
       "    }\n",
       "\n",
       "    .dataframe tbody tr th {\n",
       "        vertical-align: top;\n",
       "    }\n",
       "\n",
       "    .dataframe thead th {\n",
       "        text-align: right;\n",
       "    }\n",
       "</style>\n",
       "<table border=\"1\" class=\"dataframe\">\n",
       "  <thead>\n",
       "    <tr style=\"text-align: right;\">\n",
       "      <th></th>\n",
       "      <th>Customer_Complaint</th>\n",
       "      <th>Date_month_year</th>\n",
       "      <th>Time</th>\n",
       "      <th>Received_Via</th>\n",
       "      <th>City</th>\n",
       "      <th>State</th>\n",
       "      <th>Status</th>\n",
       "      <th>Filing_on_behalf</th>\n",
       "      <th>Date</th>\n",
       "      <th>Month</th>\n",
       "    </tr>\n",
       "  </thead>\n",
       "  <tbody>\n",
       "    <tr>\n",
       "      <th>0</th>\n",
       "      <td>Comcast Cable Internet Speeds</td>\n",
       "      <td>22-Apr-15</td>\n",
       "      <td>3:53:50 PM</td>\n",
       "      <td>Customer Care Call</td>\n",
       "      <td>Abingdon</td>\n",
       "      <td>Maryland</td>\n",
       "      <td>Closed</td>\n",
       "      <td>No</td>\n",
       "      <td>22</td>\n",
       "      <td>4</td>\n",
       "    </tr>\n",
       "    <tr>\n",
       "      <th>1</th>\n",
       "      <td>Payment disappear - service got disconnected</td>\n",
       "      <td>4-Aug-15</td>\n",
       "      <td>10:22:56 AM</td>\n",
       "      <td>Internet</td>\n",
       "      <td>Acworth</td>\n",
       "      <td>Georgia</td>\n",
       "      <td>Closed</td>\n",
       "      <td>No</td>\n",
       "      <td>4</td>\n",
       "      <td>8</td>\n",
       "    </tr>\n",
       "    <tr>\n",
       "      <th>2</th>\n",
       "      <td>Speed and Service</td>\n",
       "      <td>18-Apr-15</td>\n",
       "      <td>9:55:47 AM</td>\n",
       "      <td>Internet</td>\n",
       "      <td>Acworth</td>\n",
       "      <td>Georgia</td>\n",
       "      <td>Closed</td>\n",
       "      <td>Yes</td>\n",
       "      <td>18</td>\n",
       "      <td>4</td>\n",
       "    </tr>\n",
       "    <tr>\n",
       "      <th>3</th>\n",
       "      <td>Comcast Imposed a New Usage Cap of 300GB that ...</td>\n",
       "      <td>5-Jul-15</td>\n",
       "      <td>11:59:35 AM</td>\n",
       "      <td>Internet</td>\n",
       "      <td>Acworth</td>\n",
       "      <td>Georgia</td>\n",
       "      <td>Open</td>\n",
       "      <td>Yes</td>\n",
       "      <td>5</td>\n",
       "      <td>7</td>\n",
       "    </tr>\n",
       "    <tr>\n",
       "      <th>4</th>\n",
       "      <td>Comcast not working and no service to boot</td>\n",
       "      <td>26-May-15</td>\n",
       "      <td>1:25:26 PM</td>\n",
       "      <td>Internet</td>\n",
       "      <td>Acworth</td>\n",
       "      <td>Georgia</td>\n",
       "      <td>Solved</td>\n",
       "      <td>No</td>\n",
       "      <td>26</td>\n",
       "      <td>5</td>\n",
       "    </tr>\n",
       "  </tbody>\n",
       "</table>\n",
       "</div>"
      ],
      "text/plain": [
       "                                  Customer_Complaint Date_month_year  \\\n",
       "0                      Comcast Cable Internet Speeds       22-Apr-15   \n",
       "1       Payment disappear - service got disconnected        4-Aug-15   \n",
       "2                                  Speed and Service       18-Apr-15   \n",
       "3  Comcast Imposed a New Usage Cap of 300GB that ...        5-Jul-15   \n",
       "4         Comcast not working and no service to boot       26-May-15   \n",
       "\n",
       "          Time        Received_Via      City     State  Status  \\\n",
       "0   3:53:50 PM  Customer Care Call  Abingdon  Maryland  Closed   \n",
       "1  10:22:56 AM            Internet   Acworth   Georgia  Closed   \n",
       "2   9:55:47 AM            Internet   Acworth   Georgia  Closed   \n",
       "3  11:59:35 AM            Internet   Acworth   Georgia    Open   \n",
       "4   1:25:26 PM            Internet   Acworth   Georgia  Solved   \n",
       "\n",
       "  Filing_on_behalf  Date  Month  \n",
       "0               No    22      4  \n",
       "1               No     4      8  \n",
       "2              Yes    18      4  \n",
       "3              Yes     5      7  \n",
       "4               No    26      5  "
      ]
     },
     "execution_count": 123,
     "metadata": {},
     "output_type": "execute_result"
    }
   ],
   "source": [
    "#Splitting Date_month_year colunm into two columns, namely 'Date' & 'Month'\n",
    "df['Date'] = pd.DatetimeIndex(df['Date_month_year']).day\n",
    "df['Month'] = pd.DatetimeIndex(df['Date_month_year']).month\n",
    "df.head()"
   ]
  },
  {
   "cell_type": "code",
   "execution_count": 124,
   "id": "10593f42",
   "metadata": {},
   "outputs": [],
   "source": [
    "#Applying abbrevation on Month column\n",
    "df['Month'] = df['Month'].apply(lambda x: calendar.month_abbr[x])"
   ]
  },
  {
   "cell_type": "code",
   "execution_count": 125,
   "id": "80e32908",
   "metadata": {},
   "outputs": [
    {
     "data": {
      "text/html": [
       "<div>\n",
       "<style scoped>\n",
       "    .dataframe tbody tr th:only-of-type {\n",
       "        vertical-align: middle;\n",
       "    }\n",
       "\n",
       "    .dataframe tbody tr th {\n",
       "        vertical-align: top;\n",
       "    }\n",
       "\n",
       "    .dataframe thead th {\n",
       "        text-align: right;\n",
       "    }\n",
       "</style>\n",
       "<table border=\"1\" class=\"dataframe\">\n",
       "  <thead>\n",
       "    <tr style=\"text-align: right;\">\n",
       "      <th></th>\n",
       "      <th>Customer_Complaint</th>\n",
       "      <th>Date_month_year</th>\n",
       "      <th>Time</th>\n",
       "      <th>Received_Via</th>\n",
       "      <th>City</th>\n",
       "      <th>State</th>\n",
       "      <th>Status</th>\n",
       "      <th>Filing_on_behalf</th>\n",
       "      <th>Date</th>\n",
       "      <th>Month</th>\n",
       "    </tr>\n",
       "  </thead>\n",
       "  <tbody>\n",
       "    <tr>\n",
       "      <th>0</th>\n",
       "      <td>Comcast Cable Internet Speeds</td>\n",
       "      <td>22-Apr-15</td>\n",
       "      <td>3:53:50 PM</td>\n",
       "      <td>Customer Care Call</td>\n",
       "      <td>Abingdon</td>\n",
       "      <td>Maryland</td>\n",
       "      <td>Closed</td>\n",
       "      <td>No</td>\n",
       "      <td>22</td>\n",
       "      <td>Apr</td>\n",
       "    </tr>\n",
       "    <tr>\n",
       "      <th>1</th>\n",
       "      <td>Payment disappear - service got disconnected</td>\n",
       "      <td>4-Aug-15</td>\n",
       "      <td>10:22:56 AM</td>\n",
       "      <td>Internet</td>\n",
       "      <td>Acworth</td>\n",
       "      <td>Georgia</td>\n",
       "      <td>Closed</td>\n",
       "      <td>No</td>\n",
       "      <td>4</td>\n",
       "      <td>Aug</td>\n",
       "    </tr>\n",
       "    <tr>\n",
       "      <th>2</th>\n",
       "      <td>Speed and Service</td>\n",
       "      <td>18-Apr-15</td>\n",
       "      <td>9:55:47 AM</td>\n",
       "      <td>Internet</td>\n",
       "      <td>Acworth</td>\n",
       "      <td>Georgia</td>\n",
       "      <td>Closed</td>\n",
       "      <td>Yes</td>\n",
       "      <td>18</td>\n",
       "      <td>Apr</td>\n",
       "    </tr>\n",
       "    <tr>\n",
       "      <th>3</th>\n",
       "      <td>Comcast Imposed a New Usage Cap of 300GB that ...</td>\n",
       "      <td>5-Jul-15</td>\n",
       "      <td>11:59:35 AM</td>\n",
       "      <td>Internet</td>\n",
       "      <td>Acworth</td>\n",
       "      <td>Georgia</td>\n",
       "      <td>Open</td>\n",
       "      <td>Yes</td>\n",
       "      <td>5</td>\n",
       "      <td>Jul</td>\n",
       "    </tr>\n",
       "    <tr>\n",
       "      <th>4</th>\n",
       "      <td>Comcast not working and no service to boot</td>\n",
       "      <td>26-May-15</td>\n",
       "      <td>1:25:26 PM</td>\n",
       "      <td>Internet</td>\n",
       "      <td>Acworth</td>\n",
       "      <td>Georgia</td>\n",
       "      <td>Solved</td>\n",
       "      <td>No</td>\n",
       "      <td>26</td>\n",
       "      <td>May</td>\n",
       "    </tr>\n",
       "  </tbody>\n",
       "</table>\n",
       "</div>"
      ],
      "text/plain": [
       "                                  Customer_Complaint Date_month_year  \\\n",
       "0                      Comcast Cable Internet Speeds       22-Apr-15   \n",
       "1       Payment disappear - service got disconnected        4-Aug-15   \n",
       "2                                  Speed and Service       18-Apr-15   \n",
       "3  Comcast Imposed a New Usage Cap of 300GB that ...        5-Jul-15   \n",
       "4         Comcast not working and no service to boot       26-May-15   \n",
       "\n",
       "          Time        Received_Via      City     State  Status  \\\n",
       "0   3:53:50 PM  Customer Care Call  Abingdon  Maryland  Closed   \n",
       "1  10:22:56 AM            Internet   Acworth   Georgia  Closed   \n",
       "2   9:55:47 AM            Internet   Acworth   Georgia  Closed   \n",
       "3  11:59:35 AM            Internet   Acworth   Georgia    Open   \n",
       "4   1:25:26 PM            Internet   Acworth   Georgia  Solved   \n",
       "\n",
       "  Filing_on_behalf  Date Month  \n",
       "0               No    22   Apr  \n",
       "1               No     4   Aug  \n",
       "2              Yes    18   Apr  \n",
       "3              Yes     5   Jul  \n",
       "4               No    26   May  "
      ]
     },
     "execution_count": 125,
     "metadata": {},
     "output_type": "execute_result"
    }
   ],
   "source": [
    "df.head()"
   ]
  },
  {
   "cell_type": "code",
   "execution_count": 126,
   "id": "c052c341",
   "metadata": {},
   "outputs": [
    {
     "data": {
      "text/plain": [
       "Customer_Complaint    False\n",
       "Date_month_year       False\n",
       "Time                  False\n",
       "Received_Via          False\n",
       "City                  False\n",
       "State                 False\n",
       "Status                False\n",
       "Filing_on_behalf      False\n",
       "Date                  False\n",
       "Month                 False\n",
       "dtype: bool"
      ]
     },
     "execution_count": 126,
     "metadata": {},
     "output_type": "execute_result"
    }
   ],
   "source": [
    "df.isna().any()"
   ]
  },
  {
   "cell_type": "code",
   "execution_count": 127,
   "id": "d1986cbf",
   "metadata": {},
   "outputs": [
    {
     "data": {
      "text/html": [
       "<div>\n",
       "<style scoped>\n",
       "    .dataframe tbody tr th:only-of-type {\n",
       "        vertical-align: middle;\n",
       "    }\n",
       "\n",
       "    .dataframe tbody tr th {\n",
       "        vertical-align: top;\n",
       "    }\n",
       "\n",
       "    .dataframe thead th {\n",
       "        text-align: right;\n",
       "    }\n",
       "</style>\n",
       "<table border=\"1\" class=\"dataframe\">\n",
       "  <thead>\n",
       "    <tr style=\"text-align: right;\">\n",
       "      <th></th>\n",
       "      <th>Month</th>\n",
       "      <th>Complaints</th>\n",
       "    </tr>\n",
       "  </thead>\n",
       "  <tbody>\n",
       "    <tr>\n",
       "      <th>0</th>\n",
       "      <td>Jan</td>\n",
       "      <td>55</td>\n",
       "    </tr>\n",
       "    <tr>\n",
       "      <th>1</th>\n",
       "      <td>Feb</td>\n",
       "      <td>59</td>\n",
       "    </tr>\n",
       "    <tr>\n",
       "      <th>2</th>\n",
       "      <td>Mar</td>\n",
       "      <td>45</td>\n",
       "    </tr>\n",
       "    <tr>\n",
       "      <th>3</th>\n",
       "      <td>Apr</td>\n",
       "      <td>375</td>\n",
       "    </tr>\n",
       "    <tr>\n",
       "      <th>4</th>\n",
       "      <td>May</td>\n",
       "      <td>317</td>\n",
       "    </tr>\n",
       "    <tr>\n",
       "      <th>5</th>\n",
       "      <td>Jun</td>\n",
       "      <td>1046</td>\n",
       "    </tr>\n",
       "    <tr>\n",
       "      <th>6</th>\n",
       "      <td>Jul</td>\n",
       "      <td>49</td>\n",
       "    </tr>\n",
       "    <tr>\n",
       "      <th>7</th>\n",
       "      <td>Aug</td>\n",
       "      <td>67</td>\n",
       "    </tr>\n",
       "    <tr>\n",
       "      <th>8</th>\n",
       "      <td>Sep</td>\n",
       "      <td>55</td>\n",
       "    </tr>\n",
       "    <tr>\n",
       "      <th>9</th>\n",
       "      <td>Oct</td>\n",
       "      <td>53</td>\n",
       "    </tr>\n",
       "    <tr>\n",
       "      <th>10</th>\n",
       "      <td>Nov</td>\n",
       "      <td>38</td>\n",
       "    </tr>\n",
       "    <tr>\n",
       "      <th>11</th>\n",
       "      <td>Dec</td>\n",
       "      <td>65</td>\n",
       "    </tr>\n",
       "  </tbody>\n",
       "</table>\n",
       "</div>"
      ],
      "text/plain": [
       "   Month  Complaints\n",
       "0    Jan          55\n",
       "1    Feb          59\n",
       "2    Mar          45\n",
       "3    Apr         375\n",
       "4    May         317\n",
       "5    Jun        1046\n",
       "6    Jul          49\n",
       "7    Aug          67\n",
       "8    Sep          55\n",
       "9    Oct          53\n",
       "10   Nov          38\n",
       "11   Dec          65"
      ]
     },
     "execution_count": 127,
     "metadata": {},
     "output_type": "execute_result"
    }
   ],
   "source": [
    "monthly_complaints = df['Month'].value_counts().to_frame()\n",
    "new_order = ['Jan', 'Feb', 'Mar', 'Apr', 'May', 'Jun', 'Jul', 'Aug', 'Sep', 'Oct', 'Nov', 'Dec']\n",
    "monthly_complaints = monthly_complaints.reindex(new_order, axis=0).reset_index().rename(columns={'index':'Month','Month':'Complaints'})\n",
    "monthly_complaints\n"
   ]
  },
  {
   "cell_type": "code",
   "execution_count": 128,
   "id": "bd343ce8",
   "metadata": {},
   "outputs": [
    {
     "data": {
      "image/png": "[encoded data removed]",
      "text/plain": [
       "<Figure size 1008x360 with 1 Axes>"
      ]
     },
     "metadata": {
      "needs_background": "light"
     },
     "output_type": "display_data"
    }
   ],
   "source": [
    "#The trend chart for the number of complaints at monthly granularity levels\n",
    "#Highest complaints received in Month June\n",
    "\n",
    "plt.rcParams[\"figure.figsize\"] = (14,5)\n",
    "monthly_complaints.plot.line(x='Month',y='Complaints',color='#00A68D')\n",
    "plt.xlabel('Months')\n",
    "plt.ylabel('No.of Complaints')\n",
    "plt.title('The number of complaints at monthly levels',weight='bold')\n",
    "plt.legend( title='labels',bbox_to_anchor=(1.0, 1), loc='upper left')\n",
    "plt.tight_layout()\n",
    "plt.show()"
   ]
  },
  {
   "cell_type": "code",
   "execution_count": 129,
   "id": "bc9af6f0",
   "metadata": {},
   "outputs": [
    {
     "data": {
      "image/png": "[encoded data removed]",
      "text/plain": [
       "<Figure size 1008x360 with 1 Axes>"
      ]
     },
     "metadata": {
      "needs_background": "light"
     },
     "output_type": "display_data"
    }
   ],
   "source": [
    "#The trend chart for the number of complaints at daily granularity levels\n",
    "plt.figure(figsize=(14,5))\n",
    "df['Customer_Complaint'].groupby(df.Date_month_year).count().plot.bar(color='#00A68D')\n",
    "plt.xlabel('Days')\n",
    "plt.ylabel('No.of Complaints')\n",
    "plt.title('The number of complaints at daily levels',weight='bold')\n",
    "plt.legend( title='labels',bbox_to_anchor=(1.0, 1), loc='upper left')\n",
    "plt.tight_layout()\n",
    "plt.show()"
   ]
  },
  {
   "cell_type": "code",
   "execution_count": 130,
   "id": "9322607e",
   "metadata": {},
   "outputs": [
    {
     "data": {
      "image/png": "[encoded data removed]",
      "text/plain": [
       "<Figure size 1008x360 with 1 Axes>"
      ]
     },
     "metadata": {
      "needs_background": "light"
     },
     "output_type": "display_data"
    }
   ],
   "source": [
    "#Monthwise complaints chart\n",
    "plt.figure(figsize=(14,5))\n",
    "df['Month'].value_counts().plot.bar(color='#00A68D')\n",
    "plt.xlabel('Month')\n",
    "plt.ylabel('No.of Complaints')\n",
    "plt.title('Monthwise complaints chart',weight='bold')\n",
    "plt.legend( title='labels',bbox_to_anchor=(1.0, 1), loc='upper left')\n",
    "plt.tight_layout()\n",
    "plt.show()"
   ]
  },
  {
   "cell_type": "code",
   "execution_count": 131,
   "id": "2fca4185",
   "metadata": {},
   "outputs": [
    {
     "data": {
      "text/plain": [
       "Comcast                     83\n",
       "Comcast Internet            18\n",
       "Comcast Data Cap            17\n",
       "comcast                     13\n",
       "Comcast Billing             11\n",
       "Data Caps                   11\n",
       "Comcast Data Caps           11\n",
       "Unfair Billing Practices     9\n",
       "Comcast data cap             8\n",
       "Comcast internet             8\n",
       "Name: Customer_Complaint, dtype: int64"
      ]
     },
     "execution_count": 131,
     "metadata": {},
     "output_type": "execute_result"
    }
   ],
   "source": [
    "#Table with the frequency of complaint types\n",
    "df['Customer_Complaint'].value_counts().nlargest(10)"
   ]
  },
  {
   "cell_type": "code",
   "execution_count": 132,
   "id": "69e6e0b9",
   "metadata": {},
   "outputs": [
    {
     "data": {
      "image/png": "[encoded data removed]",
      "text/plain": [
       "<Figure size 1008x360 with 1 Axes>"
      ]
     },
     "metadata": {
      "needs_background": "light"
     },
     "output_type": "display_data"
    }
   ],
   "source": [
    "#Which complaint types are maximum i.e., around internet, network issues, or across any other domains\n",
    "plt.figure(figsize=(14,5))\n",
    "df['Customer_Complaint'].value_counts().nlargest(10).plot.line(color='#00A68D')\n",
    "plt.xlabel('Types of complaints')\n",
    "plt.ylabel('No.of Complaints')\n",
    "plt.title('Complaint typewise chart',weight='bold')\n",
    "plt.legend( title='labels',bbox_to_anchor=(1.0, 1), loc='upper left')\n",
    "plt.tight_layout()\n",
    "plt.show()"
   ]
  },
  {
   "cell_type": "code",
   "execution_count": 133,
   "id": "31ab879f",
   "metadata": {},
   "outputs": [
    {
     "data": {
      "image/png": "[encoded data removed]",
      "text/plain": [
       "<Figure size 1008x360 with 1 Axes>"
      ]
     },
     "metadata": {
      "needs_background": "light"
     },
     "output_type": "display_data"
    }
   ],
   "source": [
    "#Complaint status information based on its type i.e., Solved,Closed,Open,Pending\n",
    "plt.figure(figsize=(14,5))\n",
    "df['Status'].value_counts().plot.bar(color='#00A68D')\n",
    "plt.xlabel('Status')\n",
    "plt.ylabel('No.of Complaints')\n",
    "plt.title('Complaint Status',weight='bold')\n",
    "plt.legend( title='labels',bbox_to_anchor=(1.0, 1), loc='upper left')\n",
    "plt.tight_layout()\n",
    "plt.show()"
   ]
  },
  {
   "cell_type": "code",
   "execution_count": 134,
   "id": "66d18003",
   "metadata": {},
   "outputs": [
    {
     "data": {
      "image/png": "[encoded data removed]",
      "text/plain": [
       "<Figure size 432x432 with 1 Axes>"
      ]
     },
     "metadata": {},
     "output_type": "display_data"
    }
   ],
   "source": [
    "plt.figure(figsize=(6,6))\n",
    "explode = (0,0,0.1,0.1)\n",
    "colors = ['#00A68D','#730C0B','#0d98ba','#75E6DA']\n",
    "plt.pie(df['Status'].value_counts(),explode=explode, labels=df['Status'].value_counts().index[:],colors=colors,autopct='%1.1f%%',shadow=True)\n",
    "plt.title('Complaints Status %',weight='bold')\n",
    "plt.axis('equal')\n",
    "plt.legend( title='labels',bbox_to_anchor=(1.0, 1), loc='upper left')\n",
    "plt.tight_layout()\n",
    "plt.show()"
   ]
  },
  {
   "cell_type": "code",
   "execution_count": 135,
   "id": "baefa66a",
   "metadata": {},
   "outputs": [],
   "source": [
    "#Create a new categorical variable with value as Open and Closed\n",
    "#Open & Pending is to be categorized as Open and Closed & Solved is to be categorized as Closed\n",
    "df['Status'].replace('Closed','Closed', inplace=True)\n",
    "df['Status'].replace('Solved','Closed', inplace=True)\n",
    "df['Status'].replace('Open','Open', inplace=True)\n",
    "df['Status'].replace('Pending','Open', inplace=True)"
   ]
  },
  {
   "cell_type": "code",
   "execution_count": 136,
   "id": "049a326c",
   "metadata": {},
   "outputs": [
    {
     "data": {
      "text/plain": [
       "Closed    1707\n",
       "Open       517\n",
       "Name: Status, dtype: int64"
      ]
     },
     "execution_count": 136,
     "metadata": {},
     "output_type": "execute_result"
    }
   ],
   "source": [
    "df['Status'].value_counts()"
   ]
  },
  {
   "cell_type": "code",
   "execution_count": 137,
   "id": "1d3ba1ea",
   "metadata": {},
   "outputs": [
    {
     "data": {
      "image/png": "[encoded data removed]",
      "text/plain": [
       "<Figure size 576x288 with 1 Axes>"
      ]
     },
     "metadata": {
      "needs_background": "light"
     },
     "output_type": "display_data"
    }
   ],
   "source": [
    "plt.figure(figsize=(8,4))\n",
    "df['Status'].value_counts().plot.bar(color='#00A68D')\n",
    "plt.xlabel('Status')\n",
    "plt.ylabel('No.of Complaints')\n",
    "plt.title('Complaint Status',weight='bold')\n",
    "plt.legend( title='labels',bbox_to_anchor=(1.0, 1), loc='upper left')\n",
    "plt.tight_layout()\n",
    "plt.show()"
   ]
  },
  {
   "cell_type": "code",
   "execution_count": 138,
   "id": "fcf36c27",
   "metadata": {},
   "outputs": [
    {
     "data": {
      "text/plain": [
       "array(['Maryland', 'Georgia', 'Michigan', 'California', 'New Mexico',\n",
       "       'Indiana', 'Virginia', 'Illinois', 'Pennsylvania', 'Massachusetts',\n",
       "       'Oregon', 'Texas', 'New Hampshire', 'Minnesota', 'Tennessee',\n",
       "       'Colorado', 'Florida', 'Alabama', 'Washington', 'New York',\n",
       "       'New Jersey', 'Maine', 'Missouri', 'West Virginia', 'Montana',\n",
       "       'Mississippi', 'Connecticut', 'Vermont', 'Kentucky',\n",
       "       'South Carolina', 'Ohio', 'Utah', 'Delaware', 'Arkansas', 'Nevada',\n",
       "       'Louisiana', 'Kansas', 'Arizona', 'North Carolina', 'Rhode Island',\n",
       "       'District Of Columbia', 'District of Columbia', 'Iowa'],\n",
       "      dtype=object)"
      ]
     },
     "execution_count": 138,
     "metadata": {},
     "output_type": "execute_result"
    }
   ],
   "source": [
    "df['State'].unique()"
   ]
  },
  {
   "cell_type": "code",
   "execution_count": 139,
   "id": "ac7f07e4",
   "metadata": {},
   "outputs": [
    {
     "data": {
      "text/html": [
       "<div>\n",
       "<style scoped>\n",
       "    .dataframe tbody tr th:only-of-type {\n",
       "        vertical-align: middle;\n",
       "    }\n",
       "\n",
       "    .dataframe tbody tr th {\n",
       "        vertical-align: top;\n",
       "    }\n",
       "\n",
       "    .dataframe thead th {\n",
       "        text-align: right;\n",
       "    }\n",
       "</style>\n",
       "<table border=\"1\" class=\"dataframe\">\n",
       "  <thead>\n",
       "    <tr style=\"text-align: right;\">\n",
       "      <th></th>\n",
       "      <th></th>\n",
       "      <th>Counts</th>\n",
       "    </tr>\n",
       "    <tr>\n",
       "      <th>State</th>\n",
       "      <th>Status</th>\n",
       "      <th></th>\n",
       "    </tr>\n",
       "  </thead>\n",
       "  <tbody>\n",
       "    <tr>\n",
       "      <th rowspan=\"2\" valign=\"top\">Alabama</th>\n",
       "      <th>Closed</th>\n",
       "      <td>17</td>\n",
       "    </tr>\n",
       "    <tr>\n",
       "      <th>Open</th>\n",
       "      <td>9</td>\n",
       "    </tr>\n",
       "    <tr>\n",
       "      <th rowspan=\"2\" valign=\"top\">Arizona</th>\n",
       "      <th>Closed</th>\n",
       "      <td>14</td>\n",
       "    </tr>\n",
       "    <tr>\n",
       "      <th>Open</th>\n",
       "      <td>6</td>\n",
       "    </tr>\n",
       "    <tr>\n",
       "      <th>Arkansas</th>\n",
       "      <th>Closed</th>\n",
       "      <td>6</td>\n",
       "    </tr>\n",
       "    <tr>\n",
       "      <th>...</th>\n",
       "      <th>...</th>\n",
       "      <td>...</td>\n",
       "    </tr>\n",
       "    <tr>\n",
       "      <th>Virginia</th>\n",
       "      <th>Open</th>\n",
       "      <td>11</td>\n",
       "    </tr>\n",
       "    <tr>\n",
       "      <th rowspan=\"2\" valign=\"top\">Washington</th>\n",
       "      <th>Closed</th>\n",
       "      <td>75</td>\n",
       "    </tr>\n",
       "    <tr>\n",
       "      <th>Open</th>\n",
       "      <td>23</td>\n",
       "    </tr>\n",
       "    <tr>\n",
       "      <th rowspan=\"2\" valign=\"top\">West Virginia</th>\n",
       "      <th>Closed</th>\n",
       "      <td>8</td>\n",
       "    </tr>\n",
       "    <tr>\n",
       "      <th>Open</th>\n",
       "      <td>3</td>\n",
       "    </tr>\n",
       "  </tbody>\n",
       "</table>\n",
       "<p>77 rows × 1 columns</p>\n",
       "</div>"
      ],
      "text/plain": [
       "                      Counts\n",
       "State         Status        \n",
       "Alabama       Closed      17\n",
       "              Open         9\n",
       "Arizona       Closed      14\n",
       "              Open         6\n",
       "Arkansas      Closed       6\n",
       "...                      ...\n",
       "Virginia      Open        11\n",
       "Washington    Closed      75\n",
       "              Open        23\n",
       "West Virginia Closed       8\n",
       "              Open         3\n",
       "\n",
       "[77 rows x 1 columns]"
      ]
     },
     "execution_count": 139,
     "metadata": {},
     "output_type": "execute_result"
    }
   ],
   "source": [
    "#Statewise status of complaints \n",
    "State_count = df.groupby(['State','Status']).count()['City'].to_frame().rename(columns={'City':'Counts'})\n",
    "State_count"
   ]
  },
  {
   "cell_type": "code",
   "execution_count": 140,
   "id": "d6c2596d",
   "metadata": {},
   "outputs": [
    {
     "data": {
      "text/html": [
       "<div>\n",
       "<style scoped>\n",
       "    .dataframe tbody tr th:only-of-type {\n",
       "        vertical-align: middle;\n",
       "    }\n",
       "\n",
       "    .dataframe tbody tr th {\n",
       "        vertical-align: top;\n",
       "    }\n",
       "\n",
       "    .dataframe thead th {\n",
       "        text-align: right;\n",
       "    }\n",
       "</style>\n",
       "<table border=\"1\" class=\"dataframe\">\n",
       "  <thead>\n",
       "    <tr style=\"text-align: right;\">\n",
       "      <th>Status</th>\n",
       "      <th>Closed</th>\n",
       "      <th>Open</th>\n",
       "    </tr>\n",
       "    <tr>\n",
       "      <th>State</th>\n",
       "      <th></th>\n",
       "      <th></th>\n",
       "    </tr>\n",
       "  </thead>\n",
       "  <tbody>\n",
       "    <tr>\n",
       "      <th>Alabama</th>\n",
       "      <td>17</td>\n",
       "      <td>9</td>\n",
       "    </tr>\n",
       "    <tr>\n",
       "      <th>Arizona</th>\n",
       "      <td>14</td>\n",
       "      <td>6</td>\n",
       "    </tr>\n",
       "    <tr>\n",
       "      <th>Arkansas</th>\n",
       "      <td>6</td>\n",
       "      <td>0</td>\n",
       "    </tr>\n",
       "    <tr>\n",
       "      <th>California</th>\n",
       "      <td>159</td>\n",
       "      <td>61</td>\n",
       "    </tr>\n",
       "    <tr>\n",
       "      <th>Colorado</th>\n",
       "      <td>58</td>\n",
       "      <td>22</td>\n",
       "    </tr>\n",
       "  </tbody>\n",
       "</table>\n",
       "</div>"
      ],
      "text/plain": [
       "Status      Closed  Open\n",
       "State                   \n",
       "Alabama         17     9\n",
       "Arizona         14     6\n",
       "Arkansas         6     0\n",
       "California     159    61\n",
       "Colorado        58    22"
      ]
     },
     "execution_count": 140,
     "metadata": {},
     "output_type": "execute_result"
    }
   ],
   "source": [
    "State_status = pd.crosstab(df.State,df.Status)\n",
    "State_status.head()"
   ]
  },
  {
   "cell_type": "code",
   "execution_count": 141,
   "id": "dd708ddf",
   "metadata": {},
   "outputs": [
    {
     "data": {
      "image/png": "[encoded data removed]",
      "text/plain": [
       "<Figure size 1008x360 with 1 Axes>"
      ]
     },
     "metadata": {
      "needs_background": "light"
     },
     "output_type": "display_data"
    }
   ],
   "source": [
    "#State wise status of complaints in a stacked bar chart\n",
    "colors = ['#00A68D','#730C0B']\n",
    "cmap1 = LinearSegmentedColormap.from_list(\"my_colormap\", colors)\n",
    "State_status.plot(kind='bar', stacked=True, colormap=cmap1,figsize=(14, 5))\n",
    "plt.xlabel('States')\n",
    "plt.ylabel('No.of complaints')\n",
    "plt.title('Statewise complaint status ',weight='bold')\n",
    "plt.legend( title='labels',bbox_to_anchor=(1.0, 1), loc='upper left')\n",
    "plt.tight_layout()\n",
    "plt.show()"
   ]
  },
  {
   "cell_type": "markdown",
   "id": "c52c9300",
   "metadata": {},
   "source": [
    "# Insights on: "
   ]
  },
  {
   "cell_type": "code",
   "execution_count": 142,
   "id": "4c6c69e1",
   "metadata": {},
   "outputs": [
    {
     "data": {
      "text/html": [
       "<div>\n",
       "<style scoped>\n",
       "    .dataframe tbody tr th:only-of-type {\n",
       "        vertical-align: middle;\n",
       "    }\n",
       "\n",
       "    .dataframe tbody tr th {\n",
       "        vertical-align: top;\n",
       "    }\n",
       "\n",
       "    .dataframe thead th {\n",
       "        text-align: right;\n",
       "    }\n",
       "</style>\n",
       "<table border=\"1\" class=\"dataframe\">\n",
       "  <thead>\n",
       "    <tr style=\"text-align: right;\">\n",
       "      <th></th>\n",
       "      <th>State</th>\n",
       "    </tr>\n",
       "  </thead>\n",
       "  <tbody>\n",
       "    <tr>\n",
       "      <th>Georgia</th>\n",
       "      <td>288</td>\n",
       "    </tr>\n",
       "  </tbody>\n",
       "</table>\n",
       "</div>"
      ],
      "text/plain": [
       "         State\n",
       "Georgia    288"
      ]
     },
     "execution_count": 142,
     "metadata": {},
     "output_type": "execute_result"
    }
   ],
   "source": [
    "#Which state has the maximum complaints\n",
    "df['State'].value_counts().head(1).to_frame()"
   ]
  },
  {
   "cell_type": "code",
   "execution_count": 143,
   "id": "6cb39d0f",
   "metadata": {},
   "outputs": [
    {
     "data": {
      "image/png": "[encoded data removed]",
      "text/plain": [
       "<Figure size 1008x432 with 1 Axes>"
      ]
     },
     "metadata": {
      "needs_background": "light"
     },
     "output_type": "display_data"
    }
   ],
   "source": [
    "#State wise count of complaints\n",
    "plt.figure(figsize=(14,6))\n",
    "df[\"State\"].value_counts().plot.bar(color = '#00A68D')\n",
    "plt.xlabel('States')\n",
    "plt.ylabel('No.of Complaints')\n",
    "plt.title('Statwise Complaint counts',weight='bold')\n",
    "plt.legend( title='labels',bbox_to_anchor=(1.0, 1), loc='upper left')\n",
    "plt.tight_layout()\n",
    "plt.show()"
   ]
  },
  {
   "cell_type": "code",
   "execution_count": 144,
   "id": "5b010b4d",
   "metadata": {},
   "outputs": [
    {
     "data": {
      "text/html": [
       "<div>\n",
       "<style scoped>\n",
       "    .dataframe tbody tr th:only-of-type {\n",
       "        vertical-align: middle;\n",
       "    }\n",
       "\n",
       "    .dataframe tbody tr th {\n",
       "        vertical-align: top;\n",
       "    }\n",
       "\n",
       "    .dataframe thead th {\n",
       "        text-align: right;\n",
       "    }\n",
       "</style>\n",
       "<table border=\"1\" class=\"dataframe\">\n",
       "  <thead>\n",
       "    <tr style=\"text-align: right;\">\n",
       "      <th>Status</th>\n",
       "      <th>Closed</th>\n",
       "      <th>Open</th>\n",
       "    </tr>\n",
       "    <tr>\n",
       "      <th>State</th>\n",
       "      <th></th>\n",
       "      <th></th>\n",
       "    </tr>\n",
       "  </thead>\n",
       "  <tbody>\n",
       "    <tr>\n",
       "      <th>Georgia</th>\n",
       "      <td>208.0</td>\n",
       "      <td>80.0</td>\n",
       "    </tr>\n",
       "  </tbody>\n",
       "</table>\n",
       "</div>"
      ],
      "text/plain": [
       "Status   Closed  Open\n",
       "State                \n",
       "Georgia   208.0  80.0"
      ]
     },
     "execution_count": 144,
     "metadata": {},
     "output_type": "execute_result"
    }
   ],
   "source": [
    "#Which state has the highest percentage of unresolved complaints\n",
    "unresolved_complaints = df.groupby(['State','Status']).size().unstack().fillna(0)\n",
    "unresolved_complaints.sort_values('Closed',axis=0,ascending = False)[:1]"
   ]
  },
  {
   "cell_type": "code",
   "execution_count": 145,
   "id": "2b461a1f",
   "metadata": {},
   "outputs": [],
   "source": [
    "unresolved_complaints['unresolved'] = unresolved_complaints['Open']/unresolved_complaints['Open'].sum()*100"
   ]
  },
  {
   "cell_type": "code",
   "execution_count": 146,
   "id": "94c1995d",
   "metadata": {},
   "outputs": [
    {
     "data": {
      "text/html": [
       "<div>\n",
       "<style scoped>\n",
       "    .dataframe tbody tr th:only-of-type {\n",
       "        vertical-align: middle;\n",
       "    }\n",
       "\n",
       "    .dataframe tbody tr th {\n",
       "        vertical-align: top;\n",
       "    }\n",
       "\n",
       "    .dataframe thead th {\n",
       "        text-align: right;\n",
       "    }\n",
       "</style>\n",
       "<table border=\"1\" class=\"dataframe\">\n",
       "  <thead>\n",
       "    <tr style=\"text-align: right;\">\n",
       "      <th>Status</th>\n",
       "      <th>Closed</th>\n",
       "      <th>Open</th>\n",
       "      <th>unresolved</th>\n",
       "    </tr>\n",
       "    <tr>\n",
       "      <th>State</th>\n",
       "      <th></th>\n",
       "      <th></th>\n",
       "      <th></th>\n",
       "    </tr>\n",
       "  </thead>\n",
       "  <tbody>\n",
       "    <tr>\n",
       "      <th>Georgia</th>\n",
       "      <td>208.0</td>\n",
       "      <td>80.0</td>\n",
       "      <td>15.473888</td>\n",
       "    </tr>\n",
       "  </tbody>\n",
       "</table>\n",
       "</div>"
      ],
      "text/plain": [
       "Status   Closed  Open  unresolved\n",
       "State                            \n",
       "Georgia   208.0  80.0   15.473888"
      ]
     },
     "execution_count": 146,
     "metadata": {},
     "output_type": "execute_result"
    }
   ],
   "source": [
    "unresolved_complaints.sort_values('unresolved',axis=0,ascending = False)[:1]"
   ]
  },
  {
   "cell_type": "code",
   "execution_count": 147,
   "id": "4f7bacad",
   "metadata": {},
   "outputs": [],
   "source": [
    "#The percentage of complaints resolved till date,\n",
    "#which were received through the Internet and customer care calls"
   ]
  },
  {
   "cell_type": "code",
   "execution_count": 148,
   "id": "86f16958",
   "metadata": {},
   "outputs": [],
   "source": [
    "resolved_complaints = df.groupby(['Received_Via','Status']).size().unstack().fillna(0)"
   ]
  },
  {
   "cell_type": "code",
   "execution_count": 149,
   "id": "8647d1b0",
   "metadata": {},
   "outputs": [],
   "source": [
    "resolved_complaints['resolved'] = resolved_complaints['Closed']/resolved_complaints['Closed'].sum()*100"
   ]
  },
  {
   "cell_type": "code",
   "execution_count": 150,
   "id": "d2161949",
   "metadata": {},
   "outputs": [
    {
     "data": {
      "text/plain": [
       "Received_Via\n",
       "Customer Care Call    50.615114\n",
       "Internet              49.384886\n",
       "Name: resolved, dtype: float64"
      ]
     },
     "execution_count": 150,
     "metadata": {},
     "output_type": "execute_result"
    }
   ],
   "source": [
    "resolved_complaints['resolved']"
   ]
  },
  {
   "cell_type": "code",
   "execution_count": 151,
   "id": "326736d3",
   "metadata": {},
   "outputs": [
    {
     "data": {
      "image/png": "[encoded data removed]",
      "text/plain": [
       "<Figure size 576x576 with 1 Axes>"
      ]
     },
     "metadata": {},
     "output_type": "display_data"
    }
   ],
   "source": [
    "plt.figure(figsize=(8,8))\n",
    "explode = (0,0.1)\n",
    "colors = ['#00A68D','#730C0B']\n",
    "plt.pie(df['Received_Via'].value_counts(), explode=explode,labels=df['Received_Via'].value_counts().index[:],colors=colors,autopct='%1.1f%%',shadow=True,startangle=90)\n",
    "plt.title('The percentage of complaints resolved',weight='bold')\n",
    "plt.axis('equal')\n",
    "plt.legend( title='labels',bbox_to_anchor=(1.0, 1), loc='upper left')\n",
    "plt.tight_layout()\n",
    "plt.show()"
   ]
  },
  {
   "cell_type": "code",
   "execution_count": 152,
   "id": "892d2967",
   "metadata": {},
   "outputs": [
    {
     "data": {
      "image/png": "[encoded data removed]",
      "text/plain": [
       "<Figure size 432x432 with 1 Axes>"
      ]
     },
     "metadata": {},
     "output_type": "display_data"
    }
   ],
   "source": [
    "#The percentage of complaints filled on behalf of someone\n",
    "plt.figure(figsize=(6,6))\n",
    "explode = (0,0.1)\n",
    "colors = ['#00A68D','#730C0B']\n",
    "plt.pie(df['Filing_on_behalf'].value_counts(), explode=explode,labels=df['Filing_on_behalf'].value_counts().index[:],colors=colors,autopct='%1.1f%%',shadow=True,startangle=90)\n",
    "plt.title('The percentage of complaints filled on behalf of someone',weight='bold')\n",
    "plt.axis('equal')\n",
    "plt.legend( title='labels',bbox_to_anchor=(1.0, 1), loc='upper left')\n",
    "plt.tight_layout()\n",
    "plt.show()"
   ]
  },
  {
   "cell_type": "code",
   "execution_count": null,
   "id": "e248e435",
   "metadata": {},
   "outputs": [],
   "source": []
  },
  {
   "cell_type": "code",
   "execution_count": null,
   "id": "078bbe8d",
   "metadata": {},
   "outputs": [],
   "source": []
  }
 ],
 "metadata": {
  "kernelspec": {
   "display_name": "Python 3 (ipykernel)",
   "language": "python",
   "name": "python3"
  },
  "language_info": {
   "codemirror_mode": {
    "name": "ipython",
    "version": 3
   },
   "file_extension": ".py",
   "mimetype": "text/x-python",
   "name": "python",
   "nbconvert_exporter": "python",
   "pygments_lexer": "ipython3",
   "version": "3.9.12"
  }
 },
 "nbformat": 4,
 "nbformat_minor": 5
}
